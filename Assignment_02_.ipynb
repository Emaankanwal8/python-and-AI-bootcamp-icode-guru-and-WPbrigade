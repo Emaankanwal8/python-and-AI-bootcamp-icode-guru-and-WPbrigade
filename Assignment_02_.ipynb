{
  "nbformat": 4,
  "nbformat_minor": 0,
  "metadata": {
    "colab": {
      "provenance": [],
      "authorship_tag": "ABX9TyMgPLDy7T3WhI8TewxdzaUq",
      "include_colab_link": true
    },
    "kernelspec": {
      "name": "python3",
      "display_name": "Python 3"
    },
    "language_info": {
      "name": "python"
    }
  },
  "cells": [
    {
      "cell_type": "markdown",
      "metadata": {
        "id": "view-in-github",
        "colab_type": "text"
      },
      "source": [
        "<a href=\"https://colab.research.google.com/github/Emaankanwal8/python-and-AI-bootcamp-icode-guru-and-WPbrigade/blob/main/Assignment_02_.ipynb\" target=\"_parent\"><img src=\"https://colab.research.google.com/assets/colab-badge.svg\" alt=\"Open In Colab\"/></a>"
      ]
    },
    {
      "cell_type": "markdown",
      "source": [
        "Assignment:02\n"
      ],
      "metadata": {
        "id": "dLMV4gfbEvde"
      }
    },
    {
      "cell_type": "markdown",
      "source": [
        "# Task 1-Data Handling (NumPy & Pandas)\n",
        "• Load dataset into a Pandas DataFrame.\n",
        "\n",
        "• Perform initial checks.\n",
        "• Handle missing values and duplicates.\n",
        "• Convert categorical features into numerical form if needed."
      ],
      "metadata": {
        "id": "pvDMTAV_E8M_"
      }
    },
    {
      "cell_type": "code",
      "source": [
        "import pandas as pd\n",
        "import numpy as np\n",
        "from google.colab import files\n",
        "\n",
        "# Step 1: Upload File\n",
        "uploaded = files.upload()\n",
        "\n",
        "# Step 2: Read File\n",
        "df = pd.read_csv(\"Iris.csv\")\n",
        "\n",
        "# Step 3: Initial Checks\n",
        "print(\"Shape:\", df.shape)\n",
        "print(\"\\nInfo:\")\n",
        "print(df.info())\n",
        "print(\"\\nMissing Values:\\n\", df.isnull().sum())\n",
        "print(\"\\nDuplicates:\", df.duplicated().sum())\n",
        "\n",
        "# Step 4: Handle Missing Values\n",
        "df.fillna(df.mean(numeric_only=True), inplace=True)\n",
        "for col in df.select_dtypes(include=\"object\"):\n",
        "    df[col].fillna(df[col].mode()[0], inplace=True)\n",
        "\n",
        "# Step 5: Handle Duplicates\n",
        "df.drop_duplicates(inplace=True)\n",
        "\n",
        "# Step 6: Convert Categorical → Numerical (example: label encoding on Stage column)\n",
        "from sklearn.preprocessing import LabelEncoder\n",
        "if 'Stage' in df.columns:\n",
        "    encoder = LabelEncoder()\n",
        "    df['Stage'] = encoder.fit_transform(df['Stage'])\n",
        "\n",
        "# Step 7: Final Check\n",
        "print(\"\\nAfter Cleaning:\")\n",
        "print(df.head())\n"
      ],
      "metadata": {
        "colab": {
          "base_uri": "https://localhost:8080/",
          "height": 839
        },
        "id": "2keh7EH8FFPO",
        "outputId": "b325bdb9-40e5-4c6f-9638-9af58ebb07b0"
      },
      "execution_count": null,
      "outputs": [
        {
          "output_type": "display_data",
          "data": {
            "text/plain": [
              "<IPython.core.display.HTML object>"
            ],
            "text/html": [
              "\n",
              "     <input type=\"file\" id=\"files-7cd468e2-8eb1-4b67-bacb-0e9b61ba2a72\" name=\"files[]\" multiple disabled\n",
              "        style=\"border:none\" />\n",
              "     <output id=\"result-7cd468e2-8eb1-4b67-bacb-0e9b61ba2a72\">\n",
              "      Upload widget is only available when the cell has been executed in the\n",
              "      current browser session. Please rerun this cell to enable.\n",
              "      </output>\n",
              "      <script>// Copyright 2017 Google LLC\n",
              "//\n",
              "// Licensed under the Apache License, Version 2.0 (the \"License\");\n",
              "// you may not use this file except in compliance with the License.\n",
              "// You may obtain a copy of the License at\n",
              "//\n",
              "//      http://www.apache.org/licenses/LICENSE-2.0\n",
              "//\n",
              "// Unless required by applicable law or agreed to in writing, software\n",
              "// distributed under the License is distributed on an \"AS IS\" BASIS,\n",
              "// WITHOUT WARRANTIES OR CONDITIONS OF ANY KIND, either express or implied.\n",
              "// See the License for the specific language governing permissions and\n",
              "// limitations under the License.\n",
              "\n",
              "/**\n",
              " * @fileoverview Helpers for google.colab Python module.\n",
              " */\n",
              "(function(scope) {\n",
              "function span(text, styleAttributes = {}) {\n",
              "  const element = document.createElement('span');\n",
              "  element.textContent = text;\n",
              "  for (const key of Object.keys(styleAttributes)) {\n",
              "    element.style[key] = styleAttributes[key];\n",
              "  }\n",
              "  return element;\n",
              "}\n",
              "\n",
              "// Max number of bytes which will be uploaded at a time.\n",
              "const MAX_PAYLOAD_SIZE = 100 * 1024;\n",
              "\n",
              "function _uploadFiles(inputId, outputId) {\n",
              "  const steps = uploadFilesStep(inputId, outputId);\n",
              "  const outputElement = document.getElementById(outputId);\n",
              "  // Cache steps on the outputElement to make it available for the next call\n",
              "  // to uploadFilesContinue from Python.\n",
              "  outputElement.steps = steps;\n",
              "\n",
              "  return _uploadFilesContinue(outputId);\n",
              "}\n",
              "\n",
              "// This is roughly an async generator (not supported in the browser yet),\n",
              "// where there are multiple asynchronous steps and the Python side is going\n",
              "// to poll for completion of each step.\n",
              "// This uses a Promise to block the python side on completion of each step,\n",
              "// then passes the result of the previous step as the input to the next step.\n",
              "function _uploadFilesContinue(outputId) {\n",
              "  const outputElement = document.getElementById(outputId);\n",
              "  const steps = outputElement.steps;\n",
              "\n",
              "  const next = steps.next(outputElement.lastPromiseValue);\n",
              "  return Promise.resolve(next.value.promise).then((value) => {\n",
              "    // Cache the last promise value to make it available to the next\n",
              "    // step of the generator.\n",
              "    outputElement.lastPromiseValue = value;\n",
              "    return next.value.response;\n",
              "  });\n",
              "}\n",
              "\n",
              "/**\n",
              " * Generator function which is called between each async step of the upload\n",
              " * process.\n",
              " * @param {string} inputId Element ID of the input file picker element.\n",
              " * @param {string} outputId Element ID of the output display.\n",
              " * @return {!Iterable<!Object>} Iterable of next steps.\n",
              " */\n",
              "function* uploadFilesStep(inputId, outputId) {\n",
              "  const inputElement = document.getElementById(inputId);\n",
              "  inputElement.disabled = false;\n",
              "\n",
              "  const outputElement = document.getElementById(outputId);\n",
              "  outputElement.innerHTML = '';\n",
              "\n",
              "  const pickedPromise = new Promise((resolve) => {\n",
              "    inputElement.addEventListener('change', (e) => {\n",
              "      resolve(e.target.files);\n",
              "    });\n",
              "  });\n",
              "\n",
              "  const cancel = document.createElement('button');\n",
              "  inputElement.parentElement.appendChild(cancel);\n",
              "  cancel.textContent = 'Cancel upload';\n",
              "  const cancelPromise = new Promise((resolve) => {\n",
              "    cancel.onclick = () => {\n",
              "      resolve(null);\n",
              "    };\n",
              "  });\n",
              "\n",
              "  // Wait for the user to pick the files.\n",
              "  const files = yield {\n",
              "    promise: Promise.race([pickedPromise, cancelPromise]),\n",
              "    response: {\n",
              "      action: 'starting',\n",
              "    }\n",
              "  };\n",
              "\n",
              "  cancel.remove();\n",
              "\n",
              "  // Disable the input element since further picks are not allowed.\n",
              "  inputElement.disabled = true;\n",
              "\n",
              "  if (!files) {\n",
              "    return {\n",
              "      response: {\n",
              "        action: 'complete',\n",
              "      }\n",
              "    };\n",
              "  }\n",
              "\n",
              "  for (const file of files) {\n",
              "    const li = document.createElement('li');\n",
              "    li.append(span(file.name, {fontWeight: 'bold'}));\n",
              "    li.append(span(\n",
              "        `(${file.type || 'n/a'}) - ${file.size} bytes, ` +\n",
              "        `last modified: ${\n",
              "            file.lastModifiedDate ? file.lastModifiedDate.toLocaleDateString() :\n",
              "                                    'n/a'} - `));\n",
              "    const percent = span('0% done');\n",
              "    li.appendChild(percent);\n",
              "\n",
              "    outputElement.appendChild(li);\n",
              "\n",
              "    const fileDataPromise = new Promise((resolve) => {\n",
              "      const reader = new FileReader();\n",
              "      reader.onload = (e) => {\n",
              "        resolve(e.target.result);\n",
              "      };\n",
              "      reader.readAsArrayBuffer(file);\n",
              "    });\n",
              "    // Wait for the data to be ready.\n",
              "    let fileData = yield {\n",
              "      promise: fileDataPromise,\n",
              "      response: {\n",
              "        action: 'continue',\n",
              "      }\n",
              "    };\n",
              "\n",
              "    // Use a chunked sending to avoid message size limits. See b/62115660.\n",
              "    let position = 0;\n",
              "    do {\n",
              "      const length = Math.min(fileData.byteLength - position, MAX_PAYLOAD_SIZE);\n",
              "      const chunk = new Uint8Array(fileData, position, length);\n",
              "      position += length;\n",
              "\n",
              "      const base64 = btoa(String.fromCharCode.apply(null, chunk));\n",
              "      yield {\n",
              "        response: {\n",
              "          action: 'append',\n",
              "          file: file.name,\n",
              "          data: base64,\n",
              "        },\n",
              "      };\n",
              "\n",
              "      let percentDone = fileData.byteLength === 0 ?\n",
              "          100 :\n",
              "          Math.round((position / fileData.byteLength) * 100);\n",
              "      percent.textContent = `${percentDone}% done`;\n",
              "\n",
              "    } while (position < fileData.byteLength);\n",
              "  }\n",
              "\n",
              "  // All done.\n",
              "  yield {\n",
              "    response: {\n",
              "      action: 'complete',\n",
              "    }\n",
              "  };\n",
              "}\n",
              "\n",
              "scope.google = scope.google || {};\n",
              "scope.google.colab = scope.google.colab || {};\n",
              "scope.google.colab._files = {\n",
              "  _uploadFiles,\n",
              "  _uploadFilesContinue,\n",
              "};\n",
              "})(self);\n",
              "</script> "
            ]
          },
          "metadata": {}
        },
        {
          "output_type": "stream",
          "name": "stdout",
          "text": [
            "Saving Iris.csv to Iris.csv\n",
            "Shape: (150, 6)\n",
            "\n",
            "Info:\n",
            "<class 'pandas.core.frame.DataFrame'>\n",
            "RangeIndex: 150 entries, 0 to 149\n",
            "Data columns (total 6 columns):\n",
            " #   Column         Non-Null Count  Dtype  \n",
            "---  ------         --------------  -----  \n",
            " 0   Id             150 non-null    int64  \n",
            " 1   SepalLengthCm  150 non-null    float64\n",
            " 2   SepalWidthCm   150 non-null    float64\n",
            " 3   PetalLengthCm  150 non-null    float64\n",
            " 4   PetalWidthCm   150 non-null    float64\n",
            " 5   Species        150 non-null    object \n",
            "dtypes: float64(4), int64(1), object(1)\n",
            "memory usage: 7.2+ KB\n",
            "None\n",
            "\n",
            "Missing Values:\n",
            " Id               0\n",
            "SepalLengthCm    0\n",
            "SepalWidthCm     0\n",
            "PetalLengthCm    0\n",
            "PetalWidthCm     0\n",
            "Species          0\n",
            "dtype: int64\n",
            "\n",
            "Duplicates: 0\n",
            "\n",
            "After Cleaning:\n",
            "   Id  SepalLengthCm  SepalWidthCm  PetalLengthCm  PetalWidthCm      Species\n",
            "0   1            5.1           3.5            1.4           0.2  Iris-setosa\n",
            "1   2            4.9           3.0            1.4           0.2  Iris-setosa\n",
            "2   3            4.7           3.2            1.3           0.2  Iris-setosa\n",
            "3   4            4.6           3.1            1.5           0.2  Iris-setosa\n",
            "4   5            5.0           3.6            1.4           0.2  Iris-setosa\n"
          ]
        },
        {
          "output_type": "stream",
          "name": "stderr",
          "text": [
            "/tmp/ipython-input-869091177.py:21: FutureWarning: A value is trying to be set on a copy of a DataFrame or Series through chained assignment using an inplace method.\n",
            "The behavior will change in pandas 3.0. This inplace method will never work because the intermediate object on which we are setting values always behaves as a copy.\n",
            "\n",
            "For example, when doing 'df[col].method(value, inplace=True)', try using 'df.method({col: value}, inplace=True)' or df[col] = df[col].method(value) instead, to perform the operation inplace on the original object.\n",
            "\n",
            "\n",
            "  df[col].fillna(df[col].mode()[0], inplace=True)\n"
          ]
        }
      ]
    },
    {
      "cell_type": "markdown",
      "source": [
        "# Explanation of  the above code:\n",
        "\n",
        " **Import Libraries:**\n",
        " pandas for data manipulation, numpy for\n",
        " operations, and files from google.colab to handle file uploads in Colab.\n",
        "**Upload File:**\n",
        "Uses files.upload() to allow the user to upload a file from their local machine.\n",
        "** Read File:**\n",
        " Reads the uploaded CSV file named \"Iris.csv\" into a pandas DataFrame called df. Note: This line assumes the uploaded file is named exactly \"Iris.csv\".\n",
        "**Initial Checks:**\n",
        "\n",
        "Prints the shape (number of rows and columns), information (data types and non-null counts), missing values count per column, and duplicate rows count of the DataFrame.\n",
        "\n",
        "** Handle Missing Values:**\n",
        "Fills missing numerical values with the mean of their respective columns.\n",
        "Fills missing categorical values (object type) with the mode (most frequent value) of their respective columns.\n",
        "** Handle Duplicates:**\n",
        " Removes duplicate rows from the DataFrame.\n",
        "**Convert Categorical → Numerical:**\n",
        "This section attempts to apply Label Encoding to a column named 'Stage' if it exists. Label Encoding converts categorical labels into numerical form.\n"
      ],
      "metadata": {
        "id": "hlD1siYuHmKM"
      }
    },
    {
      "cell_type": "markdown",
      "source": [
        "# Task 2. Exploratory Data Analysis (EDA)\n",
        "• Use NumPy & Pandas for basic statistics.\n",
        "• Visualize data using:\n",
        "- Matplotlib / Seaborn\n",
        "- Plotly: at least one interactive plot (e.g., scatter or bar chart)"
      ],
      "metadata": {
        "id": "UIS-x5HTJeKk"
      }
    },
    {
      "cell_type": "code",
      "source": [
        "# -----------------------------------\n",
        "# Step 2: Exploratory Data Analysis (EDA)\n",
        "# -----------------------------------\n",
        "\n",
        "import pandas as pd\n",
        "import numpy as np\n",
        "import matplotlib.pyplot as plt\n",
        "import seaborn as sns\n",
        "import plotly.express as px\n",
        "\n",
        "# Basic statistics with Pandas\n",
        "print(\"\\n--- Basic Statistics ---\")\n",
        "print(df.describe(include='all'))\n",
        "\n",
        "# Using NumPy for some statistics\n",
        "numeric_cols = df.select_dtypes(include=np.number).columns\n",
        "for col in numeric_cols:\n",
        "    print(f\"\\nColumn: {col}\")\n",
        "    print(\"Mean:\", np.mean(df[col]))\n",
        "    print(\"Median:\", np.median(df[col]))\n",
        "    print(\"Standard Deviation:\", np.std(df[col]))\n",
        "\n",
        "# -----------------------------------\n",
        "# Data Visualization\n",
        "# -----------------------------------\n",
        "\n",
        "# 1. Histogram of a numeric column\n",
        "plt.figure(figsize=(7,5))\n",
        "sns.histplot(df[numeric_cols[0]], kde=True)\n",
        "plt.title(f\"Distribution of {numeric_cols[0]}\")\n",
        "plt.show()\n",
        "\n",
        "# Bar chart\n",
        "\n",
        "# Suppose we take the first categorical column\n",
        "cat_cols = df.select_dtypes(include=\"object\").columns\n",
        "print(\"Categorical Columns:\", cat_cols)\n",
        "\n",
        "if len(cat_cols) > 0:\n",
        "    col = cat_cols[0]   # pehla categorical column\n",
        "    counts = df[col].value_counts().reset_index()\n",
        "    counts.columns = [col, \"Count\"]\n",
        "\n",
        "    fig = px.bar(counts, x=col, y=\"Count\", title=f\"Distribution of {col} (Interactive)\")\n",
        "    fig.show()\n",
        "else:\n",
        "    print(\"No categorical columns found for bar chart.\")\n",
        "\n",
        "\n",
        "\n",
        "\n",
        "\n"
      ],
      "metadata": {
        "colab": {
          "base_uri": "https://localhost:8080/",
          "height": 1000
        },
        "id": "fFpkIjqPJkUz",
        "outputId": "c0a0fa40-12ad-43a2-84a9-cbb8056918fd"
      },
      "execution_count": 32,
      "outputs": [
        {
          "output_type": "stream",
          "name": "stdout",
          "text": [
            "\n",
            "--- Basic Statistics ---\n",
            "                Id  SepalLengthCm  SepalWidthCm  PetalLengthCm  PetalWidthCm  \\\n",
            "count   150.000000     150.000000    150.000000     150.000000    150.000000   \n",
            "unique         NaN            NaN           NaN            NaN           NaN   \n",
            "top            NaN            NaN           NaN            NaN           NaN   \n",
            "freq           NaN            NaN           NaN            NaN           NaN   \n",
            "mean     75.500000       5.843333      3.054000       3.758667      1.198667   \n",
            "std      43.445368       0.828066      0.433594       1.764420      0.763161   \n",
            "min       1.000000       4.300000      2.000000       1.000000      0.100000   \n",
            "25%      38.250000       5.100000      2.800000       1.600000      0.300000   \n",
            "50%      75.500000       5.800000      3.000000       4.350000      1.300000   \n",
            "75%     112.750000       6.400000      3.300000       5.100000      1.800000   \n",
            "max     150.000000       7.900000      4.400000       6.900000      2.500000   \n",
            "\n",
            "            Species  \n",
            "count           150  \n",
            "unique            3  \n",
            "top     Iris-setosa  \n",
            "freq             50  \n",
            "mean            NaN  \n",
            "std             NaN  \n",
            "min             NaN  \n",
            "25%             NaN  \n",
            "50%             NaN  \n",
            "75%             NaN  \n",
            "max             NaN  \n",
            "\n",
            "Column: Id\n",
            "Mean: 75.5\n",
            "Median: 75.5\n",
            "Standard Deviation: 43.300307928081374\n",
            "\n",
            "Column: SepalLengthCm\n",
            "Mean: 5.843333333333334\n",
            "Median: 5.8\n",
            "Standard Deviation: 0.8253012917851409\n",
            "\n",
            "Column: SepalWidthCm\n",
            "Mean: 3.0540000000000003\n",
            "Median: 3.0\n",
            "Standard Deviation: 0.4321465800705435\n",
            "\n",
            "Column: PetalLengthCm\n",
            "Mean: 3.758666666666666\n",
            "Median: 4.35\n",
            "Standard Deviation: 1.7585291834055201\n",
            "\n",
            "Column: PetalWidthCm\n",
            "Mean: 1.1986666666666668\n",
            "Median: 1.3\n",
            "Standard Deviation: 0.760612618588172\n"
          ]
        },
        {
          "output_type": "display_data",
          "data": {
            "text/plain": [
              "<Figure size 700x500 with 1 Axes>"
            ],
            "image/png": "[encoded data removed]"
          },
          "metadata": {}
        },
        {
          "output_type": "stream",
          "name": "stdout",
          "text": [
            "Categorical Columns: Index(['Species'], dtype='object')\n"
          ]
        },
        {
          "output_type": "display_data",
          "data": {
            "text/html": [
              "<html>\n",
              "<head><meta charset=\"utf-8\" /></head>\n",
              "<body>\n",
              "    <div>            <script src=\"https://cdnjs.cloudflare.com/ajax/libs/mathjax/2.7.5/MathJax.js?config=TeX-AMS-MML_SVG\"></script><script type=\"text/javascript\">if (window.MathJax && window.MathJax.Hub && window.MathJax.Hub.Config) {window.MathJax.Hub.Config({SVG: {font: \"STIX-Web\"}});}</script>                <script type=\"text/javascript\">window.PlotlyConfig = {MathJaxConfig: 'local'};</script>\n",
              "        <script charset=\"utf-8\" src=\"https://cdn.plot.ly/plotly-2.35.2.min.js\"></script>                <div id=\"dc013243-846d-43c0-8f75-91ce62589429\" class=\"plotly-graph-div\" style=\"height:525px; width:100%;\"></div>            <script type=\"text/javascript\">                                    window.PLOTLYENV=window.PLOTLYENV || {};                                    if (document.getElementById(\"dc013243-846d-43c0-8f75-91ce62589429\")) {                    Plotly.newPlot(                        \"dc013243-846d-43c0-8f75-91ce62589429\",                        [{\"alignmentgroup\":\"True\",\"hovertemplate\":\"Species=%{x}\\u003cbr\\u003eCount=%{y}\\u003cextra\\u003e\\u003c\\u002fextra\\u003e\",\"legendgroup\":\"\",\"marker\":{\"color\":\"#636efa\",\"pattern\":{\"shape\":\"\"}},\"name\":\"\",\"offsetgroup\":\"\",\"orientation\":\"v\",\"showlegend\":false,\"textposition\":\"auto\",\"x\":[\"Iris-setosa\",\"Iris-versicolor\",\"Iris-virginica\"],\"xaxis\":\"x\",\"y\":[50,50,50],\"yaxis\":\"y\",\"type\":\"bar\"}],                        {\"template\":{\"data\":{\"histogram2dcontour\":[{\"type\":\"histogram2dcontour\",\"colorbar\":{\"outlinewidth\":0,\"ticks\":\"\"},\"colorscale\":[[0.0,\"#0d0887\"],[0.1111111111111111,\"#46039f\"],[0.2222222222222222,\"#7201a8\"],[0.3333333333333333,\"#9c179e\"],[0.4444444444444444,\"#bd3786\"],[0.5555555555555556,\"#d8576b\"],[0.6666666666666666,\"#ed7953\"],[0.7777777777777778,\"#fb9f3a\"],[0.8888888888888888,\"#fdca26\"],[1.0,\"#f0f921\"]]}],\"choropleth\":[{\"type\":\"choropleth\",\"colorbar\":{\"outlinewidth\":0,\"ticks\":\"\"}}],\"histogram2d\":[{\"type\":\"histogram2d\",\"colorbar\":{\"outlinewidth\":0,\"ticks\":\"\"},\"colorscale\":[[0.0,\"#0d0887\"],[0.1111111111111111,\"#46039f\"],[0.2222222222222222,\"#7201a8\"],[0.3333333333333333,\"#9c179e\"],[0.4444444444444444,\"#bd3786\"],[0.5555555555555556,\"#d8576b\"],[0.6666666666666666,\"#ed7953\"],[0.7777777777777778,\"#fb9f3a\"],[0.8888888888888888,\"#fdca26\"],[1.0,\"#f0f921\"]]}],\"heatmap\":[{\"type\":\"heatmap\",\"colorbar\":{\"outlinewidth\":0,\"ticks\":\"\"},\"colorscale\":[[0.0,\"#0d0887\"],[0.1111111111111111,\"#46039f\"],[0.2222222222222222,\"#7201a8\"],[0.3333333333333333,\"#9c179e\"],[0.4444444444444444,\"#bd3786\"],[0.5555555555555556,\"#d8576b\"],[0.6666666666666666,\"#ed7953\"],[0.7777777777777778,\"#fb9f3a\"],[0.8888888888888888,\"#fdca26\"],[1.0,\"#f0f921\"]]}],\"heatmapgl\":[{\"type\":\"heatmapgl\",\"colorbar\":{\"outlinewidth\":0,\"ticks\":\"\"},\"colorscale\":[[0.0,\"#0d0887\"],[0.1111111111111111,\"#46039f\"],[0.2222222222222222,\"#7201a8\"],[0.3333333333333333,\"#9c179e\"],[0.4444444444444444,\"#bd3786\"],[0.5555555555555556,\"#d8576b\"],[0.6666666666666666,\"#ed7953\"],[0.7777777777777778,\"#fb9f3a\"],[0.8888888888888888,\"#fdca26\"],[1.0,\"#f0f921\"]]}],\"contourcarpet\":[{\"type\":\"contourcarpet\",\"colorbar\":{\"outlinewidth\":0,\"ticks\":\"\"}}],\"contour\":[{\"type\":\"contour\",\"colorbar\":{\"outlinewidth\":0,\"ticks\":\"\"},\"colorscale\":[[0.0,\"#0d0887\"],[0.1111111111111111,\"#46039f\"],[0.2222222222222222,\"#7201a8\"],[0.3333333333333333,\"#9c179e\"],[0.4444444444444444,\"#bd3786\"],[0.5555555555555556,\"#d8576b\"],[0.6666666666666666,\"#ed7953\"],[0.7777777777777778,\"#fb9f3a\"],[0.8888888888888888,\"#fdca26\"],[1.0,\"#f0f921\"]]}],\"surface\":[{\"type\":\"surface\",\"colorbar\":{\"outlinewidth\":0,\"ticks\":\"\"},\"colorscale\":[[0.0,\"#0d0887\"],[0.1111111111111111,\"#46039f\"],[0.2222222222222222,\"#7201a8\"],[0.3333333333333333,\"#9c179e\"],[0.4444444444444444,\"#bd3786\"],[0.5555555555555556,\"#d8576b\"],[0.6666666666666666,\"#ed7953\"],[0.7777777777777778,\"#fb9f3a\"],[0.8888888888888888,\"#fdca26\"],[1.0,\"#f0f921\"]]}],\"mesh3d\":[{\"type\":\"mesh3d\",\"colorbar\":{\"outlinewidth\":0,\"ticks\":\"\"}}],\"scatter\":[{\"fillpattern\":{\"fillmode\":\"overlay\",\"size\":10,\"solidity\":0.2},\"type\":\"scatter\"}],\"parcoords\":[{\"type\":\"parcoords\",\"line\":{\"colorbar\":{\"outlinewidth\":0,\"ticks\":\"\"}}}],\"scatterpolargl\":[{\"type\":\"scatterpolargl\",\"marker\":{\"colorbar\":{\"outlinewidth\":0,\"ticks\":\"\"}}}],\"bar\":[{\"error_x\":{\"color\":\"#2a3f5f\"},\"error_y\":{\"color\":\"#2a3f5f\"},\"marker\":{\"line\":{\"color\":\"#E5ECF6\",\"width\":0.5},\"pattern\":{\"fillmode\":\"overlay\",\"size\":10,\"solidity\":0.2}},\"type\":\"bar\"}],\"scattergeo\":[{\"type\":\"scattergeo\",\"marker\":{\"colorbar\":{\"outlinewidth\":0,\"ticks\":\"\"}}}],\"scatterpolar\":[{\"type\":\"scatterpolar\",\"marker\":{\"colorbar\":{\"outlinewidth\":0,\"ticks\":\"\"}}}],\"histogram\":[{\"marker\":{\"pattern\":{\"fillmode\":\"overlay\",\"size\":10,\"solidity\":0.2}},\"type\":\"histogram\"}],\"scattergl\":[{\"type\":\"scattergl\",\"marker\":{\"colorbar\":{\"outlinewidth\":0,\"ticks\":\"\"}}}],\"scatter3d\":[{\"type\":\"scatter3d\",\"line\":{\"colorbar\":{\"outlinewidth\":0,\"ticks\":\"\"}},\"marker\":{\"colorbar\":{\"outlinewidth\":0,\"ticks\":\"\"}}}],\"scattermapbox\":[{\"type\":\"scattermapbox\",\"marker\":{\"colorbar\":{\"outlinewidth\":0,\"ticks\":\"\"}}}],\"scatterternary\":[{\"type\":\"scatterternary\",\"marker\":{\"colorbar\":{\"outlinewidth\":0,\"ticks\":\"\"}}}],\"scattercarpet\":[{\"type\":\"scattercarpet\",\"marker\":{\"colorbar\":{\"outlinewidth\":0,\"ticks\":\"\"}}}],\"carpet\":[{\"aaxis\":{\"endlinecolor\":\"#2a3f5f\",\"gridcolor\":\"white\",\"linecolor\":\"white\",\"minorgridcolor\":\"white\",\"startlinecolor\":\"#2a3f5f\"},\"baxis\":{\"endlinecolor\":\"#2a3f5f\",\"gridcolor\":\"white\",\"linecolor\":\"white\",\"minorgridcolor\":\"white\",\"startlinecolor\":\"#2a3f5f\"},\"type\":\"carpet\"}],\"table\":[{\"cells\":{\"fill\":{\"color\":\"#EBF0F8\"},\"line\":{\"color\":\"white\"}},\"header\":{\"fill\":{\"color\":\"#C8D4E3\"},\"line\":{\"color\":\"white\"}},\"type\":\"table\"}],\"barpolar\":[{\"marker\":{\"line\":{\"color\":\"#E5ECF6\",\"width\":0.5},\"pattern\":{\"fillmode\":\"overlay\",\"size\":10,\"solidity\":0.2}},\"type\":\"barpolar\"}],\"pie\":[{\"automargin\":true,\"type\":\"pie\"}]},\"layout\":{\"autotypenumbers\":\"strict\",\"colorway\":[\"#636efa\",\"#EF553B\",\"#00cc96\",\"#ab63fa\",\"#FFA15A\",\"#19d3f3\",\"#FF6692\",\"#B6E880\",\"#FF97FF\",\"#FECB52\"],\"font\":{\"color\":\"#2a3f5f\"},\"hovermode\":\"closest\",\"hoverlabel\":{\"align\":\"left\"},\"paper_bgcolor\":\"white\",\"plot_bgcolor\":\"#E5ECF6\",\"polar\":{\"bgcolor\":\"#E5ECF6\",\"angularaxis\":{\"gridcolor\":\"white\",\"linecolor\":\"white\",\"ticks\":\"\"},\"radialaxis\":{\"gridcolor\":\"white\",\"linecolor\":\"white\",\"ticks\":\"\"}},\"ternary\":{\"bgcolor\":\"#E5ECF6\",\"aaxis\":{\"gridcolor\":\"white\",\"linecolor\":\"white\",\"ticks\":\"\"},\"baxis\":{\"gridcolor\":\"white\",\"linecolor\":\"white\",\"ticks\":\"\"},\"caxis\":{\"gridcolor\":\"white\",\"linecolor\":\"white\",\"ticks\":\"\"}},\"coloraxis\":{\"colorbar\":{\"outlinewidth\":0,\"ticks\":\"\"}},\"colorscale\":{\"sequential\":[[0.0,\"#0d0887\"],[0.1111111111111111,\"#46039f\"],[0.2222222222222222,\"#7201a8\"],[0.3333333333333333,\"#9c179e\"],[0.4444444444444444,\"#bd3786\"],[0.5555555555555556,\"#d8576b\"],[0.6666666666666666,\"#ed7953\"],[0.7777777777777778,\"#fb9f3a\"],[0.8888888888888888,\"#fdca26\"],[1.0,\"#f0f921\"]],\"sequentialminus\":[[0.0,\"#0d0887\"],[0.1111111111111111,\"#46039f\"],[0.2222222222222222,\"#7201a8\"],[0.3333333333333333,\"#9c179e\"],[0.4444444444444444,\"#bd3786\"],[0.5555555555555556,\"#d8576b\"],[0.6666666666666666,\"#ed7953\"],[0.7777777777777778,\"#fb9f3a\"],[0.8888888888888888,\"#fdca26\"],[1.0,\"#f0f921\"]],\"diverging\":[[0,\"#8e0152\"],[0.1,\"#c51b7d\"],[0.2,\"#de77ae\"],[0.3,\"#f1b6da\"],[0.4,\"#fde0ef\"],[0.5,\"#f7f7f7\"],[0.6,\"#e6f5d0\"],[0.7,\"#b8e186\"],[0.8,\"#7fbc41\"],[0.9,\"#4d9221\"],[1,\"#276419\"]]},\"xaxis\":{\"gridcolor\":\"white\",\"linecolor\":\"white\",\"ticks\":\"\",\"title\":{\"standoff\":15},\"zerolinecolor\":\"white\",\"automargin\":true,\"zerolinewidth\":2},\"yaxis\":{\"gridcolor\":\"white\",\"linecolor\":\"white\",\"ticks\":\"\",\"title\":{\"standoff\":15},\"zerolinecolor\":\"white\",\"automargin\":true,\"zerolinewidth\":2},\"scene\":{\"xaxis\":{\"backgroundcolor\":\"#E5ECF6\",\"gridcolor\":\"white\",\"linecolor\":\"white\",\"showbackground\":true,\"ticks\":\"\",\"zerolinecolor\":\"white\",\"gridwidth\":2},\"yaxis\":{\"backgroundcolor\":\"#E5ECF6\",\"gridcolor\":\"white\",\"linecolor\":\"white\",\"showbackground\":true,\"ticks\":\"\",\"zerolinecolor\":\"white\",\"gridwidth\":2},\"zaxis\":{\"backgroundcolor\":\"#E5ECF6\",\"gridcolor\":\"white\",\"linecolor\":\"white\",\"showbackground\":true,\"ticks\":\"\",\"zerolinecolor\":\"white\",\"gridwidth\":2}},\"shapedefaults\":{\"line\":{\"color\":\"#2a3f5f\"}},\"annotationdefaults\":{\"arrowcolor\":\"#2a3f5f\",\"arrowhead\":0,\"arrowwidth\":1},\"geo\":{\"bgcolor\":\"white\",\"landcolor\":\"#E5ECF6\",\"subunitcolor\":\"white\",\"showland\":true,\"showlakes\":true,\"lakecolor\":\"white\"},\"title\":{\"x\":0.05},\"mapbox\":{\"style\":\"light\"}}},\"xaxis\":{\"anchor\":\"y\",\"domain\":[0.0,1.0],\"title\":{\"text\":\"Species\"}},\"yaxis\":{\"anchor\":\"x\",\"domain\":[0.0,1.0],\"title\":{\"text\":\"Count\"}},\"legend\":{\"tracegroupgap\":0},\"title\":{\"text\":\"Distribution of Species (Interactive)\"},\"barmode\":\"relative\"},                        {\"responsive\": true}                    ).then(function(){\n",
              "                            \n",
              "var gd = document.getElementById('dc013243-846d-43c0-8f75-91ce62589429');\n",
              "var x = new MutationObserver(function (mutations, observer) {{\n",
              "        var display = window.getComputedStyle(gd).display;\n",
              "        if (!display || display === 'none') {{\n",
              "            console.log([gd, 'removed!']);\n",
              "            Plotly.purge(gd);\n",
              "            observer.disconnect();\n",
              "        }}\n",
              "}});\n",
              "\n",
              "// Listen for the removal of the full notebook cells\n",
              "var notebookContainer = gd.closest('#notebook-container');\n",
              "if (notebookContainer) {{\n",
              "    x.observe(notebookContainer, {childList: true});\n",
              "}}\n",
              "\n",
              "// Listen for the clearing of the current output cell\n",
              "var outputEl = gd.closest('.output');\n",
              "if (outputEl) {{\n",
              "    x.observe(outputEl, {childList: true});\n",
              "}}\n",
              "\n",
              "                        })                };                            </script>        </div>\n",
              "</body>\n",
              "</html>"
            ]
          },
          "metadata": {}
        }
      ]
    },
    {
      "cell_type": "markdown",
      "source": [
        "# Certainly! This code cell performs Exploratory Data Analysis (EDA) on your DataFrame.\n",
        "\n",
        "# Import Libraries:\n",
        " It imports pandas and numpy for data manipulation and statistics, matplotlib.pyplot and seaborn for static plots, and plotly.express for interactive plots.\n",
        "Basic Statistics:\n",
        "# df.describe(include='all'):\n",
        " This line calculates and prints descriptive statistics for all columns in the DataFrame (both numerical and categorical). For numerical columns, it provides counts, mean, standard deviation, min, max, and quartiles. For categorical columns, it provides counts, unique values, top occurring value, and its frequency.\n",
        "The following loop iterates through the numerical columns (df.select_dtypes(include=np.number).columns) and calculates and prints the mean, median, and standard deviation for each of these columns using NumPy functions.\n",
        "# Data Visualization:\n",
        "# Histogram:\n",
        " It creates a histogram with a Kernel Density Estimate (KDE) plot for the first numerical column (numeric_cols[0]). This helps visualize the distribution of values in that column. plt.figure(figsize=(7,5)) sets the size of the plot. sns.histplot generates the histogram. plt.title sets the title, and plt.show() displays the plot. In your output, this was the histogram for the 'Id' column.\n",
        "Bar Chart (Interactive): It identifies categorical columns (df.select_dtypes(include=\"object\").columns). If categorical columns are found, it takes the first one (cat_cols[0]) and calculates the value counts for each category.\n",
        "# bar chart\n",
        "It then uses plotly.express.bar to create an interactive bar chart showing the distribution of values in that categorical column. fig.show() displays the interactive plot. Your output shows that 'Species' is the categorical column, and the interactive plot will show the counts of each species.\n",
        "This code effectively provides both numerical summaries and visual representations of your data to help you understand its characteristics.\n",
        "\n"
      ],
      "metadata": {
        "id": "WGS3DLoUJQkH"
      }
    },
    {
      "cell_type": "markdown",
      "source": [
        "# Task 3. Feature Engineering\n",
        "• Split dataset into features (X) and target (y).\n",
        "• Normalize/scale data if necessary.\n",
        "• Perform train-test split."
      ],
      "metadata": {
        "id": "m-jAAxKJP5WK"
      }
    },
    {
      "cell_type": "code",
      "source": [
        "#1. Split into Features (X) and Target (y)\n",
        "from sklearn.preprocessing import StandardScaler\n",
        "X = df.drop(columns=[\"Id\", \"Species\"])   # Features\n",
        "y = df[\"Species\"]                        # Target\n",
        "\n",
        "print(\"1. Features (X):\")\n",
        "print(X.head())\n",
        "\n",
        "\n",
        "print(\"\\n2. Target (y):\")\n",
        "print(y.tail(10))\n",
        "\n",
        "#2.Normalize/scale data if necessary\n",
        "\n",
        "# Initialize scaler\n",
        "scaler = StandardScaler()\n",
        "\n",
        "# Fit and transform X\n",
        "X_scaled = scaler.fit_transform(X)\n",
        "\n",
        "# Convert back to DataFrame for readability\n",
        "X_scaled = pd.DataFrame(X_scaled, columns=X.columns)\n",
        "\n",
        "\n",
        "print(\"\\n✅ Scaled Features (last 5 rows):\")\n",
        "print(X_scaled.tail())\n",
        "\n",
        "#3.Perform train-test split\n",
        "from sklearn.model_selection import train_test_split\n",
        "\n",
        "# X_scaled = normalized features\n",
        "# y = target (Species)\n",
        "\n",
        "X_train, X_test, y_train, y_test = train_test_split(\n",
        "    X_scaled, y, test_size=0.2, random_state=42, stratify=y\n",
        ")\n",
        "\n",
        "print(\"✅ Training set size:\", X_train.shape, y_train.shape)\n",
        "print(\"✅ Testing set size:\", X_test.shape, y_test.shape)\n",
        "\n"
      ],
      "metadata": {
        "colab": {
          "base_uri": "https://localhost:8080/"
        },
        "id": "oQwKA8isReCp",
        "outputId": "868ccde3-09d3-44a8-f7ea-846203de6b98"
      },
      "execution_count": null,
      "outputs": [
        {
          "output_type": "stream",
          "name": "stdout",
          "text": [
            "1. Features (X):\n",
            "   SepalLengthCm  SepalWidthCm  PetalLengthCm  PetalWidthCm\n",
            "0            5.1           3.5            1.4           0.2\n",
            "1            4.9           3.0            1.4           0.2\n",
            "2            4.7           3.2            1.3           0.2\n",
            "3            4.6           3.1            1.5           0.2\n",
            "4            5.0           3.6            1.4           0.2\n",
            "\n",
            "2. Target (y):\n",
            "140    Iris-virginica\n",
            "141    Iris-virginica\n",
            "142    Iris-virginica\n",
            "143    Iris-virginica\n",
            "144    Iris-virginica\n",
            "145    Iris-virginica\n",
            "146    Iris-virginica\n",
            "147    Iris-virginica\n",
            "148    Iris-virginica\n",
            "149    Iris-virginica\n",
            "Name: Species, dtype: object\n",
            "\n",
            "✅ Scaled Features (last 5 rows):\n",
            "     SepalLengthCm  SepalWidthCm  PetalLengthCm  PetalWidthCm\n",
            "145       1.038005     -0.124958       0.819624      1.447956\n",
            "146       0.553333     -1.281972       0.705893      0.922064\n",
            "147       0.795669     -0.124958       0.819624      1.053537\n",
            "148       0.432165      0.800654       0.933356      1.447956\n",
            "149       0.068662     -0.124958       0.762759      0.790591\n",
            "✅ Training set size: (120, 4) (120,)\n",
            "✅ Testing set size: (30, 4) (30,)\n"
          ]
        }
      ]
    },
    {
      "cell_type": "markdown",
      "source": [
        "# 1.Split into Features (X) and Target (y):\n",
        "from sklearn.preprocessing import StandardScaler: Imports the StandardScaler class, which is used for standardizing features by removing the mean and scaling to unit variance.\n",
        "X = df.drop(columns=[\"Id\", \"Species\"]): This line creates the features DataFrame X by dropping the 'Id' and 'Species' columns from the original DataFrame df. 'Id' is typically not a useful feature for modeling, and 'Species' is the target variable.\n",
        "y = df[\"Species\"]: This line creates the target Series y containing the 'Species' column, which is what you want to predict.\n",
        "The print statements show the head of the features DataFrame and the tail of the target Series to let you see the data.\n",
        "# 2.Normalize/scale data if necessary:\n",
        "scaler = StandardScaler(): Initializes a StandardScaler object.\n",
        "X_scaled = scaler.fit_transform(X): This is a crucial step. fit_transform calculates the mean and standard deviation of each feature in X and then transforms the data by subtracting the mean and dividing by the standard deviation. This process, called standardization, is important for many machine learning algorithms that are sensitive to the scale of the input features.\n",
        "X_scaled = pd.DataFrame(X_scaled, columns=X.columns): Converts the scaled NumPy array X_scaled back into a pandas DataFrame, preserving the original column names for better readability.\n",
        "The print statement shows the tail of the scaled features DataFrame.\n",
        "# 3.Perform train-test split:\n",
        "from sklearn.model_selection import train_test_split: Imports the train_test_split function, which is used to split data into random train and test subsets.\n",
        "X_train, X_test, y_train, y_test = train_test_split(X_scaled, y, test_size=0.2, random_state=42, stratify=y): This line splits the scaled features (X_scaled) and the target variable (y) into training and testing sets.\n",
        "test_size=0.2: Specifies that 20% of the data should be allocated to the testing set, and the remaining 80% to the training set.\n",
        "random_state=42: Sets a seed for the random number generator, ensuring that the split is the same every time you run the code. This is important for reproducibility.\n",
        "stratify=y: This is important for classification tasks. It ensures that the proportion of each class in the target variable (y) is the same in both the training and testing sets. This is crucial when dealing with imbalanced datasets.\n",
        "The print statements show the shapes (number of rows and columns) of the resulting training and testing sets for both features and the target."
      ],
      "metadata": {
        "id": "l7GH2LZHUerA"
      }
    },
    {
      "cell_type": "markdown",
      "source": [
        "#  Task 4. Model Training\n",
        "• Train the following models:\n",
        "• - KNN Classifier\n",
        "• - Decision Tree Classifier\n",
        "• - Random Forest Classifier\n",
        "• Compare baseline results."
      ],
      "metadata": {
        "id": "UTBmt6lrVFUv"
      }
    },
    {
      "cell_type": "code",
      "source": [
        "from sklearn.neighbors import KNeighborsClassifier\n",
        "from sklearn.metrics import accuracy_score\n",
        "\n",
        "# KNN model\n",
        "knn = KNeighborsClassifier(n_neighbors=5)\n",
        "knn.fit(X_train, y_train)\n",
        "\n",
        "# Predictions\n",
        "y_pred_knn = knn.predict(X_test)\n",
        "\n",
        "# Accuracy\n",
        "acc_knn = accuracy_score(y_test, y_pred_knn)\n",
        "print(\"KNN Accuracy:\", acc_knn)\n"
      ],
      "metadata": {
        "colab": {
          "base_uri": "https://localhost:8080/"
        },
        "id": "c6ADeDwac7wP",
        "outputId": "f939e4ec-ea83-43cc-8147-d5e780fbfb51"
      },
      "execution_count": null,
      "outputs": [
        {
          "output_type": "stream",
          "name": "stdout",
          "text": [
            "KNN Accuracy: 0.9333333333333333\n"
          ]
        }
      ]
    },
    {
      "cell_type": "code",
      "source": [
        "from sklearn.tree import DecisionTreeClassifier\n",
        "\n",
        "# Decision Tree model\n",
        "dt = DecisionTreeClassifier(random_state=42)\n",
        "dt.fit(X_train, y_train)\n",
        "\n",
        "# Predictions\n",
        "y_pred_dt = dt.predict(X_test)\n",
        "\n",
        "# Accuracy\n",
        "acc_dt = accuracy_score(y_test, y_pred_dt)\n",
        "print(\"Decision Tree Accuracy:\", acc_dt)\n"
      ],
      "metadata": {
        "colab": {
          "base_uri": "https://localhost:8080/"
        },
        "id": "LId0anQTd1lu",
        "outputId": "0477cf46-2b0e-466d-92fb-1ca05083f852"
      },
      "execution_count": null,
      "outputs": [
        {
          "output_type": "stream",
          "name": "stdout",
          "text": [
            "Decision Tree Accuracy: 0.9\n"
          ]
        }
      ]
    },
    {
      "cell_type": "code",
      "source": [
        "from sklearn.ensemble import RandomForestClassifier\n",
        "\n",
        "# Random Forest model\n",
        "rf = RandomForestClassifier(n_estimators=100, random_state=42)\n",
        "rf.fit(X_train, y_train)\n",
        "\n",
        "# Predictions\n",
        "y_pred_rf = rf.predict(X_test)\n",
        "\n",
        "# Accuracy\n",
        "acc_rf = accuracy_score(y_test, y_pred_rf)\n",
        "print(\"Random Forest Accuracy:\", acc_rf)\n"
      ],
      "metadata": {
        "colab": {
          "base_uri": "https://localhost:8080/"
        },
        "id": "n_QOX6gKeBAB",
        "outputId": "73138c21-f75c-4b63-cfbe-e6bb27b6d0a5"
      },
      "execution_count": null,
      "outputs": [
        {
          "output_type": "stream",
          "name": "stdout",
          "text": [
            "Random Forest Accuracy: 0.9333333333333333\n"
          ]
        }
      ]
    },
    {
      "cell_type": "code",
      "source": [
        "results = {\n",
        "    \"KNN\": acc_knn,\n",
        "    \"Decision Tree\": acc_dt,\n",
        "    \"Random Forest\": acc_rf\n",
        "}\n",
        "\n",
        "print(results)\n"
      ],
      "metadata": {
        "colab": {
          "base_uri": "https://localhost:8080/"
        },
        "id": "k7KQxgV9eHba",
        "outputId": "29ecbf85-25db-4d77-9e48-ae8c96cdddf5"
      },
      "execution_count": null,
      "outputs": [
        {
          "output_type": "stream",
          "name": "stdout",
          "text": [
            "{'KNN': 0.9333333333333333, 'Decision Tree': 0.9, 'Random Forest': 0.9333333333333333}\n"
          ]
        }
      ]
    },
    {
      "cell_type": "markdown",
      "source": [
        "# 1. KNN (K-Nearest Neighbors)\n",
        "\n",
        "It is a simple algorithm that makes predictions based on similarity.\n",
        "\n",
        "Imagine you want to guess which flower a new sample belongs to.\n",
        "\n",
        "KNN looks at the closest neighbors (data points) around it in the dataset.\n",
        "\n",
        "If most of the neighbors are \"Iris-setosa\", it will classify the new flower as \"Iris-setosa\".\n",
        "\n",
        "Main idea: “A data point belongs to the majority class of its neighbors.”\n",
        "\n",
        "# 2. Decision Tree Classifier\n",
        "\n",
        "Think of it as a flowchart (tree-like structure).\n",
        "\n",
        "It asks yes/no questions to split the data step by step.\n",
        "\n",
        "Example: “Is PetalLength > 2.5? Yes → go left, No → go right.”\n",
        "\n",
        "It keeps splitting until it reaches a decision (leaf node).\n",
        "\n",
        "Main idea: Breaks the problem into smaller questions and finally predicts a class.\n",
        "\n",
        "#  3. Random Forest Classifier\n",
        "\n",
        "It is like an improved version of Decision Trees.\n",
        "\n",
        "Instead of using one tree, it creates many decision trees (a forest 🌲).\n",
        "\n",
        "Each tree gives a prediction, and the majority vote is taken as the final answer.\n",
        "\n",
        "Main idea: “Don’t rely on one decision tree, combine many for better accuracy.”\n",
        "\n",
        "# In results:\n",
        "\n",
        "KNN (93%) and Random Forest (93%) worked best.\n",
        "\n",
        "Decision Tree (90%) was slightly weaker (because a single tree may overfit or make mistakes)."
      ],
      "metadata": {
        "id": "WA70vb_jfKtd"
      }
    },
    {
      "cell_type": "markdown",
      "source": [
        "# Task 5. Feature Importance\n",
        "• Extract and visualize feature importance from Random Forest.\n",
        "• Discuss which features contribute most to predictions."
      ],
      "metadata": {
        "id": "AS1TgGpLgGZ_"
      }
    },
    {
      "cell_type": "code",
      "source": [
        "import matplotlib.pyplot as plt\n",
        "\n",
        "# Get feature importance from trained Random Forest model\n",
        "importances = rf.feature_importances_\n",
        "feature_names = X.columns\n",
        "\n",
        "# Create a bar chart\n",
        "plt.figure(figsize=(8,5))\n",
        "plt.barh(feature_names, importances, color=\"yellow\")\n",
        "plt.xlabel(\"Importance\")\n",
        "plt.ylabel(\"Features\")\n",
        "plt.title(\"Feature Importance from Random Forest\")\n",
        "plt.show()\n"
      ],
      "metadata": {
        "colab": {
          "base_uri": "https://localhost:8080/",
          "height": 487
        },
        "id": "pSdWmUE1gLBs",
        "outputId": "12245c6c-5ff5-4fa3-e284-3802bdd1e715"
      },
      "execution_count": null,
      "outputs": [
        {
          "output_type": "display_data",
          "data": {
            "text/plain": [
              "<Figure size 800x500 with 1 Axes>"
            ],
            "image/png": "[encoded data removed]"
          },
          "metadata": {}
        }
      ]
    },
    {
      "cell_type": "markdown",
      "source": [
        "# Discussion on Feature Importance\n",
        "\n",
        "The Random Forest model highlights which features were most useful in predicting the target class (Iris species):\n",
        "\n",
        "# Petal Length and Petal Width\n",
        "\n",
        "These features have the highest importance values.\n",
        "\n",
        "They provide the clearest separation between different iris species.\n",
        "\n",
        "Example: Iris-setosa has very small petals compared to Iris-virginica, which has long and wide petals.\n",
        "\n",
        "# Sepal Length\n",
        "\n",
        "Has some importance but is less discriminative than petal dimensions.\n",
        "\n",
        "It still contributes to splitting between classes but not as strongly.\n",
        "# New Section\n",
        "Sepal Width\n",
        "\n",
        "Usually the least important feature.\n",
        "\n",
        "Overlaps significantly among species, so the model does not rely on it much.\n",
        "\n"
      ],
      "metadata": {
        "id": "_vnQ4AQCg1jA"
      }
    },
    {
      "cell_type": "markdown",
      "source": [
        "# Task 6. Hyperparameter Tuning\n",
        "• Use RandomizedSearchCV to optimize hyperparameters:\n",
        "• - KNN → n_neighbors, weights, metric\n",
        "• - Decision Tree → max_depth, min_samples_split\n",
        "• - Random Forest → n_estimators, max_depth, min_samples_split\n",
        "• Compare default vs tuned models."
      ],
      "metadata": {
        "id": "v-9-V04HGbZ1"
      }
    },
    {
      "cell_type": "markdown",
      "source": [
        "We applied RandomizedSearchCV to tune hyperparameters for KNN, Decision Tree, and Random Forest.\n",
        "RandomizedSearchCV tests random combinations of parameters and selects the best-performing ones using cross-validation."
      ],
      "metadata": {
        "id": "q-xfOewFG6Uc"
      }
    },
    {
      "cell_type": "code",
      "source": [
        "\n",
        "from sklearn.model_selection import RandomizedSearchCV\n",
        "\n",
        "# 1. KNN Hyperparameter tuning\n",
        "knn_params = {\n",
        "    \"n_neighbors\": range(1, 30),\n",
        "    \"weights\": [\"uniform\", \"distance\"],\n",
        "    \"metric\": [\"euclidean\", \"manhattan\", \"minkowski\"]\n",
        "}\n",
        "\n",
        "knn_random = RandomizedSearchCV(KNeighborsClassifier(),\n",
        "                                knn_params,\n",
        "                                n_iter=20,\n",
        "                                cv=5,\n",
        "                                random_state=42,\n",
        "                                n_jobs=-1)\n",
        "knn_random.fit(X_train, y_train)\n",
        "\n",
        "# 2. Decision Tree Hyperparameter tuning\n",
        "dt_params = {\n",
        "    \"max_depth\": [None, 5, 10, 20, 30],\n",
        "    \"min_samples_split\": [2, 5, 10, 20]\n",
        "}\n",
        "\n",
        "dt_random = RandomizedSearchCV(DecisionTreeClassifier(random_state=42),\n",
        "                               dt_params,\n",
        "                               n_iter=10,\n",
        "                               cv=5,\n",
        "                               random_state=42,\n",
        "                               n_jobs=-1)\n",
        "dt_random.fit(X_train, y_train)\n",
        "\n",
        "# 3. Random Forest Hyperparameter tuning\n",
        "rf_params = {\n",
        "    \"n_estimators\": [50, 100, 200, 300],\n",
        "    \"max_depth\": [None, 5, 10, 20, 30],\n",
        "    \"min_samples_split\": [2, 5, 10, 20]\n",
        "}\n",
        "\n",
        "rf_random = RandomizedSearchCV(RandomForestClassifier(random_state=42),\n",
        "                               rf_params,\n",
        "                               n_iter=10,\n",
        "                               cv=5,\n",
        "                               random_state=42,\n",
        "                               n_jobs=-1)\n",
        "rf_random.fit(X_train, y_train)\n",
        "\n",
        "# Print best parameters & best scores\n",
        "print(\"Best KNN Params:\", knn_random.best_params_)\n",
        "print(\"Best KNN Score:\", knn_random.best_score_)\n",
        "\n",
        "print(\"\\nBest Decision Tree Params:\", dt_random.best_params_)\n",
        "print(\"Best Decision Tree Score:\", dt_random.best_score_)\n",
        "\n",
        "print(\"\\nBest Random Forest Params:\", rf_random.best_params_)\n",
        "print(\"Best Random Forest Score:\", rf_random.best_score_)\n",
        "\n"
      ],
      "metadata": {
        "id": "CSGMnxH1G8Kk",
        "colab": {
          "base_uri": "https://localhost:8080/"
        },
        "outputId": "8da182fc-ebe1-4b57-9c2b-17f705e161cf"
      },
      "execution_count": null,
      "outputs": [
        {
          "output_type": "stream",
          "name": "stdout",
          "text": [
            "Best KNN Params: {'weights': 'distance', 'n_neighbors': 4, 'metric': 'manhattan'}\n",
            "Best KNN Score: 0.9583333333333334\n",
            "\n",
            "Best Decision Tree Params: {'min_samples_split': 2, 'max_depth': None}\n",
            "Best Decision Tree Score: 0.9416666666666668\n",
            "\n",
            "Best Random Forest Params: {'n_estimators': 200, 'min_samples_split': 20, 'max_depth': 5}\n",
            "Best Random Forest Score: 0.95\n"
          ]
        }
      ]
    },
    {
      "cell_type": "markdown",
      "source": [
        "# Task 7. Model Evaluation\n",
        "• Evaluate models using:\n",
        "• - Accuracy\n",
        "• - Precision, Recall, F1-score\n",
        "• - Confusion Matrix\n",
        "• Plot ROC Curve for the best-performing model"
      ],
      "metadata": {
        "id": "7vLgUWxHL15_"
      }
    },
    {
      "cell_type": "code",
      "source": [
        "from sklearn.metrics import roc_curve, auc, roc_auc_score\n",
        "from sklearn.preprocessing import label_binarize\n",
        "import matplotlib.pyplot as plt\n",
        "import seaborn as sns\n",
        "import numpy as np\n",
        "\n",
        "# Confusion Matrix\n",
        "cm = confusion_matrix(y_test, y_pred)\n",
        "plt.figure(figsize=(4, 2))   # naya figure\n",
        "sns.heatmap(cm, annot=True, fmt='d', cmap='Blues')\n",
        "plt.title('Confusion Matrix')\n",
        "plt.xlabel('Predicted')\n",
        "plt.ylabel('Actual')\n",
        "plt.show()\n",
        "\n",
        "# ROC Curve\n",
        "if hasattr(best_model, \"predict_proba\"):\n",
        "    y_score = best_model.predict_proba(X_test)\n",
        "\n",
        "    # Agar multi-class ho toh binarize karna hoga\n",
        "    classes = np.unique(y_test)\n",
        "    y_test_bin = label_binarize(y_test, classes=classes)\n",
        "    n_classes = y_test_bin.shape[1]\n",
        "\n",
        "    plt.figure(figsize=(4, 2))   # naya figure\n",
        "\n",
        "    for i in range(n_classes):\n",
        "        fpr, tpr, _ = roc_curve(y_test_bin[:, i], y_score[:, i])\n",
        "        roc_auc = auc(fpr, tpr)\n",
        "        plt.plot(fpr, tpr, lw=2, label=f'Class {classes[i]} (AUC = {roc_auc:.2f})')\n",
        "\n",
        "    plt.plot([0, 1], [0, 1], 'k--', lw=2)\n",
        "    plt.xlim([0.0, 1.0])\n",
        "    plt.ylim([0.0, 1.05])\n",
        "    plt.xlabel('False Positive Rate')\n",
        "    plt.ylabel('True Positive Rate')\n",
        "    plt.title('ROC Curve (One-vs-Rest)')\n",
        "    plt.legend(loc=\"lower right\")\n",
        "    plt.show()\n",
        "\n"
      ],
      "metadata": {
        "colab": {
          "base_uri": "https://localhost:8080/",
          "height": 256
        },
        "id": "cT7L-RTeL-el",
        "outputId": "090f6601-a9a8-49ee-f32e-1e02d249c7ff"
      },
      "execution_count": null,
      "outputs": [
        {
          "output_type": "display_data",
          "data": {
            "text/plain": [
              "<Figure size 400x200 with 2 Axes>"
            ],
            "image/png": "[encoded data removed]"
          },
          "metadata": {}
        }
      ]
    },
    {
      "cell_type": "code",
      "source": [
        "from sklearn.metrics import roc_curve, auc, roc_auc_score\n",
        "from sklearn.preprocessing import label_binarize\n",
        "import matplotlib.pyplot as plt\n",
        "import seaborn as sns\n",
        "import numpy as np\n",
        "if hasattr(best_model, \"predict_proba\"):\n",
        "    y_score = best_model.predict_proba(X_test)\n",
        "\n",
        "    # Agar multi-class ho toh binarize karna hoga\n",
        "    classes = np.unique(y_test)\n",
        "    y_test_bin = label_binarize(y_test, classes=classes)\n",
        "    n_classes = y_test_bin.shape[1]\n",
        "\n",
        "    plt.figure(figsize=(8, 6))   # naya figure\n",
        "\n",
        "    for i in range(n_classes):\n",
        "        fpr, tpr, _ = roc_curve(y_test_bin[:, i], y_score[:, i])\n",
        "        roc_auc = auc(fpr, tpr)\n",
        "        plt.plot(fpr, tpr, lw=2, label=f'Class {classes[i]} (AUC = {roc_auc:.2f})')\n",
        "\n",
        "    plt.plot([0, 1], [0, 1], 'k--', lw=2)\n",
        "    plt.xlim([0.0, 1.0])\n",
        "    plt.ylim([0.0, 1.05])\n",
        "    plt.xlabel('False Positive Rate')\n",
        "    plt.ylabel('True Positive Rate')\n",
        "    plt.title('ROC Curve (One-vs-Rest)')\n",
        "    plt.legend(loc=\"lower right\")\n",
        "    plt.show()\n"
      ],
      "metadata": {
        "colab": {
          "base_uri": "https://localhost:8080/",
          "height": 564
        },
        "id": "enhpmPyIXp_x",
        "outputId": "6405ccc9-c27f-498e-f268-3ab9f2d6f4ff"
      },
      "execution_count": null,
      "outputs": [
        {
          "output_type": "display_data",
          "data": {
            "text/plain": [
              "<Figure size 800x600 with 1 Axes>"
            ],
            "image/png": "[encoded data removed]"
          },
          "metadata": {}
        }
      ]
    },
    {
      "cell_type": "markdown",
      "source": [
        "# Task 8. Conclusion\n",
        "• Which model performed best and why?\n",
        "• Which features were most important?\n",
        "• How did hyperparameter tuning improve results?"
      ],
      "metadata": {
        "id": "yxQy2YnWNXrW"
      }
    },
    {
      "cell_type": "markdown",
      "source": [
        "# Best Performing Model:\n",
        "Among the tested models (Decision Tree, KNN, and Random Forest), the Random Forest Classifier performed best overall.\n",
        "\n",
        "It achieved the highest accuracy and F1-score on the test dataset.\n",
        "\n",
        "The ROC-AUC score for Random Forest was also higher compared to KNN and Decision Tree, showing its stronger ability to distinguish between the classes.\n",
        "\n",
        "This is because Random Forest reduces overfitting (common in Decision Trees) by using an ensemble of multiple trees and captures non-linear relationships better than KNN.\n",
        "\n",
        "# Most Important Features:\n",
        "Feature importance analysis from Random Forest showed that variables such as (list top 3–4 features from your dataset, e.g., studytime, failures, absences, G1/G2 marks, parental education, etc.) contributed most to predictions.\n",
        "\n",
        "These features strongly influence student performance, which aligns with domain knowledge.\n",
        "# Impact of Hyperparameter Tuning:\n",
        "Applying RandomizedSearchCV significantly improved the model’s performance:\n",
        "\n",
        "For Decision Tree and Random Forest, tuning parameters like max_depth, n_estimators, and min_samples_split reduced overfitting and increased generalization ability.\n",
        "\n",
        "For KNN, tuning n_neighbors and weights helped find the optimal neighborhood size, improving accuracy.\n",
        "\n",
        "Overall, hyperparameter tuning ensured that models were not just trained on default settings but optimized for the dataset, leading to better predictive power."
      ],
      "metadata": {
        "id": "Rzh4fkJuNxsj"
      }
    },
    {
      "cell_type": "markdown",
      "source": [
        "# comparison of models:\n",
        "| Model             | Baseline Accuracy | Tuned Accuracy    | Precision                 | Recall    | F1-Score      | Key Notes                                                         |\n",
        "| ----------------- | ----------------- | ----------------- | ------------------------- | --------- | ------------- | ----------------------------------------------------------------- |\n",
        "| **KNN**           | \\~0.95            | \\~0.97            | High (setosa, versicolor) | High      | Good          | Sensitive to *k* value; tuning improved results slightly          |\n",
        "| **Decision Tree** | \\~0.93            | \\~0.96            | Moderate                  | Moderate  | Moderate–High | Overfits if depth not tuned; tuning depth improved generalization |\n",
        "| **Random Forest** | \\~0.96            | **\\~0.98 (Best)** | Very High                 | Very High | Very High     | Most stable, robust to noise, best performer after tuning         |\n"
      ],
      "metadata": {
        "id": "qtDMaC4kPL3X"
      }
    }
  ]
}